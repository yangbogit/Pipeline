{
 "cells": [
  {
   "cell_type": "code",
   "execution_count": 1,
   "metadata": {},
   "outputs": [],
   "source": [
    "import cv2\n",
    "\n",
    "file_name = './camera_1.jpg'\n",
    "\n",
    "jpg = cv2.imread(file_name)\n",
    "write_im_num = 1000\n",
    "for i in list(range(write_im_num)):\n",
    "    file_path = './camera_' + str(i+1) + '.jpg'\n",
    "    cv2.imwrite(file_path, jpg)"
   ]
  },
  {
   "cell_type": "code",
   "execution_count": 2,
   "metadata": {},
   "outputs": [],
   "source": [
    "import os\n",
    "\n",
    "image_num = 10000\n",
    "for i in list(range(image_num - 1)):\n",
    "    os.remove('./camera_' + str(i + 2) + '.jpg')"
   ]
  }
 ],
 "metadata": {
  "interpreter": {
   "hash": "8e73fdd53f72a4fc97f3d7cf3cdbd8c51bca6954459662e7ee91a55566e61f7a"
  },
  "kernelspec": {
   "display_name": "Python 3.8.12 ('PyTorchML')",
   "language": "python",
   "name": "python3"
  },
  "language_info": {
   "codemirror_mode": {
    "name": "ipython",
    "version": 3
   },
   "file_extension": ".py",
   "mimetype": "text/x-python",
   "name": "python",
   "nbconvert_exporter": "python",
   "pygments_lexer": "ipython3",
   "version": "3.8.12"
  },
  "orig_nbformat": 4
 },
 "nbformat": 4,
 "nbformat_minor": 2
}
